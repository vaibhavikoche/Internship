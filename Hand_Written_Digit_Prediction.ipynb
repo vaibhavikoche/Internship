{
  "nbformat": 4,
  "nbformat_minor": 0,
  "metadata": {
    "colab": {
      "provenance": [],
      "authorship_tag": "ABX9TyNLGQK9L6eHNuleTmBCvdwd",
      "include_colab_link": true
    },
    "kernelspec": {
      "name": "python3",
      "display_name": "Python 3"
    },
    "language_info": {
      "name": "python"
    }
  },
  "cells": [
    {
      "cell_type": "markdown",
      "metadata": {
        "id": "view-in-github",
        "colab_type": "text"
      },
      "source": [
        "<a href=\"https://colab.research.google.com/github/vaibhavikoche/Internship/blob/main/Hand_Written_Digit_Prediction.ipynb\" target=\"_parent\"><img src=\"https://colab.research.google.com/assets/colab-badge.svg\" alt=\"Open In Colab\"/></a>"
      ]
    },
    {
      "cell_type": "code",
      "execution_count": null,
      "metadata": {
        "id": "gmyTF-1K6liW"
      },
      "outputs": [],
      "source": [
        "# Importing necessary libraries\n",
        "import numpy as np\n",
        "import matplotlib.pyplot as plt\n",
        "from sklearn.datasets import load_digits\n",
        "from sklearn.model_selection import train_test_split\n",
        "from sklearn.linear_model import LogisticRegression\n",
        "from sklearn.metrics import confusion_matrix, accuracy_score\n",
        "\n",
        "# Loading the dataset\n",
        "digits = load_digits()\n",
        "\n",
        "# Displaying an example image from the dataset\n",
        "plt.gray()\n",
        "plt.matshow(digits.images[0])\n",
        "plt.show()\n",
        "\n",
        "# Preparing the data\n",
        "X = digits.data  # Features (pixel values)\n",
        "y = digits.target  # Labels (digit classes)\n",
        "\n",
        "# Splitting the dataset into training and testing sets\n",
        "X_train, X_test, y_train, y_test = train_test_split(X, y, test_size=0.2, random_state=42)\n",
        "\n",
        "# Initializing and training the logistic regression model\n",
        "model = LogisticRegression(max_iter=10000)  # Using a higher max_iter to ensure convergence\n",
        "model.fit(X_train, y_train)\n",
        "\n",
        "# Making predictions on the test set\n",
        "y_pred = model.predict(X_test)\n",
        "\n",
        "# Evaluating the model\n",
        "accuracy = accuracy_score(y_test, y_pred)\n",
        "print(f\"Accuracy: {accuracy * 100:.2f}%\")\n",
        "\n",
        "# Confusion matrix for performance evaluation\n",
        "cm = confusion_matrix(y_test, y_pred)\n",
        "\n",
        "# Displaying the confusion matrix\n",
        "plt.figure(figsize=(10, 7))\n",
        "plt.matshow(cm, cmap=plt.cm.Blues, fignum=1)\n",
        "plt.title('Confusion Matrix', pad=20)\n",
        "plt.colorbar()\n",
        "plt.xlabel('Predicted')\n",
        "plt.ylabel('True')\n",
        "plt.show()\n",
        "\n",
        "# Displaying a few test results\n",
        "plt.figure(figsize=(9, 9))\n",
        "for index, (image, label) in enumerate(zip(X_test[0:9], y_pred[0:9])):\n",
        "    plt.subplot(3, 3, index + 1)\n",
        "    plt.imshow(image.reshape(8, 8), cmap=plt.cm.gray)\n",
        "    plt.title(f'Predicted: {label}')\n",
        "plt.show()"
      ]
    }
  ]
}